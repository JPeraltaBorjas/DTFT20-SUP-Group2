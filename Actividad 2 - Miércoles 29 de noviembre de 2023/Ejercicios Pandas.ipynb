{
 "cells": [
  {
   "cell_type": "markdown",
   "metadata": {},
   "source": [
    "# Ejercicios sobre Pandas"
   ]
  },
  {
   "cell_type": "code",
   "execution_count": null,
   "metadata": {},
   "outputs": [],
   "source": [
    "import pandas as pd"
   ]
  },
  {
   "cell_type": "code",
   "execution_count": null,
   "metadata": {},
   "outputs": [],
   "source": [
    "# Crear DataFrame desde el archivo CSV\n",
    "df = pd.read_csv('Datasets/Nuclear_Incidents.csv')"
   ]
  },
  {
   "cell_type": "markdown",
   "metadata": {},
   "source": [
    "### Ejercicio 1:\n",
    "* Muestra la cantidad de registros para cada país ('Location')."
   ]
  },
  {
   "cell_type": "code",
   "execution_count": 45,
   "metadata": {},
   "outputs": [],
   "source": [
    "paises = df['Location'].str.split(',').str[-1].str.strip()"
   ]
  },
  {
   "cell_type": "code",
   "execution_count": 46,
   "metadata": {},
   "outputs": [
    {
     "data": {
      "text/plain": [
       "Location\n",
       "United States     13\n",
       "Japan              3\n",
       "Soviet Union       2\n",
       "United Kingdom     1\n",
       "Switzerland        1\n",
       "East Germany       1\n",
       "Czechoslovakia     1\n",
       "West Germany       1\n",
       "Spain              1\n",
       "Russia             1\n",
       "Hungary            1\n",
       "Sweden             1\n",
       "France             1\n",
       "Name: count, dtype: int64"
      ]
     },
     "execution_count": 46,
     "metadata": {},
     "output_type": "execute_result"
    }
   ],
   "source": [
    "# Se muestra la cantidad de los paises\n",
    "paises.value_counts()"
   ]
  },
  {
   "cell_type": "markdown",
   "metadata": {},
   "source": [
    "### Ejercicio 2:\n",
    "* Eliminar las columnas 'Longitude', 'Latitude' y 'Location' y mostrar las 2 primeras filas del Dataframe."
   ]
  },
  {
   "cell_type": "code",
   "execution_count": 48,
   "metadata": {},
   "outputs": [
    {
     "data": {
      "text/html": [
       "<div>\n",
       "<style scoped>\n",
       "    .dataframe tbody tr th:only-of-type {\n",
       "        vertical-align: middle;\n",
       "    }\n",
       "\n",
       "    .dataframe tbody tr th {\n",
       "        vertical-align: top;\n",
       "    }\n",
       "\n",
       "    .dataframe thead th {\n",
       "        text-align: right;\n",
       "    }\n",
       "</style>\n",
       "<table border=\"1\" class=\"dataframe\">\n",
       "  <thead>\n",
       "    <tr style=\"text-align: right;\">\n",
       "      <th></th>\n",
       "      <th>Date</th>\n",
       "      <th>Incident</th>\n",
       "      <th>Category</th>\n",
       "      <th>Numbers of Direct Deaths</th>\n",
       "      <th>Numbers of InDirect Deaths</th>\n",
       "      <th>INES level</th>\n",
       "    </tr>\n",
       "  </thead>\n",
       "  <tbody>\n",
       "    <tr>\n",
       "      <th>0</th>\n",
       "      <td>29/09/1957</td>\n",
       "      <td>Kyshtym disaster</td>\n",
       "      <td>Storage/Handling</td>\n",
       "      <td>NaN</td>\n",
       "      <td>200</td>\n",
       "      <td>6.0</td>\n",
       "    </tr>\n",
       "    <tr>\n",
       "      <th>1</th>\n",
       "      <td>10/10/1957</td>\n",
       "      <td>Windscale fire</td>\n",
       "      <td>Operational/Safety Measures</td>\n",
       "      <td>0.0</td>\n",
       "      <td>240</td>\n",
       "      <td>5.0</td>\n",
       "    </tr>\n",
       "  </tbody>\n",
       "</table>\n",
       "</div>"
      ],
      "text/plain": [
       "         Date          Incident                     Category  \\\n",
       "0  29/09/1957  Kyshtym disaster             Storage/Handling   \n",
       "1  10/10/1957    Windscale fire  Operational/Safety Measures   \n",
       "\n",
       "   Numbers of Direct Deaths Numbers of InDirect Deaths  INES level  \n",
       "0                       NaN                        200         6.0  \n",
       "1                       0.0                        240         5.0  "
      ]
     },
     "execution_count": 48,
     "metadata": {},
     "output_type": "execute_result"
    }
   ],
   "source": [
    "df.drop(columns=['Latitude','Longitude','Location']).head(2)"
   ]
  },
  {
   "cell_type": "markdown",
   "metadata": {},
   "source": [
    "### Ejercicio 3:\n",
    "* Muestra la cantidad de veces que se repiten los años en la columna 'Date'."
   ]
  },
  {
   "cell_type": "code",
   "execution_count": 56,
   "metadata": {},
   "outputs": [
    {
     "data": {
      "text/plain": [
       "Date\n",
       "1986    4\n",
       "1957    2\n",
       "1996    2\n",
       "1989    2\n",
       "1987    2\n",
       "2011    2\n",
       "1976    1\n",
       "1979    1\n",
       "1984    1\n",
       "1985    1\n",
       "1975    1\n",
       "1961    1\n",
       "1969    1\n",
       "1992    1\n",
       "1966    1\n",
       "1999    1\n",
       "2002    1\n",
       "2003    1\n",
       "2004    1\n",
       "2006    1\n",
       "Name: count, dtype: int64"
      ]
     },
     "execution_count": 56,
     "metadata": {},
     "output_type": "execute_result"
    }
   ],
   "source": [
    "df.Date.str.split('/').str[-1].str.strip().value_counts()"
   ]
  },
  {
   "cell_type": "code",
   "execution_count": 59,
   "metadata": {},
   "outputs": [
    {
     "name": "stdout",
     "output_type": "stream",
     "text": [
      "Date\n",
      "1986    4\n",
      "1957    2\n",
      "1996    2\n",
      "1989    2\n",
      "1987    2\n",
      "2011    2\n",
      "1976    1\n",
      "1979    1\n",
      "1984    1\n",
      "1985    1\n",
      "1975    1\n",
      "1961    1\n",
      "1969    1\n",
      "1992    1\n",
      "1966    1\n",
      "1999    1\n",
      "2002    1\n",
      "2003    1\n",
      "2004    1\n",
      "2006    1\n",
      "Name: count, dtype: int64\n"
     ]
    },
    {
     "name": "stderr",
     "output_type": "stream",
     "text": [
      "C:\\Users\\PERALTA\\AppData\\Local\\Temp\\ipykernel_19408\\576753938.py:1: UserWarning: Parsing dates in %d/%m/%Y format when dayfirst=False (the default) was specified. Pass `dayfirst=True` or specify a format to silence this warning.\n",
      "  conteo_fechas = pd.to_datetime(df['Date']).dt.year.value_counts()\n"
     ]
    }
   ],
   "source": [
    "conteo_fechas = pd.to_datetime(df['Date']).dt.year.value_counts()\n",
    "print(conteo_fechas)"
   ]
  },
  {
   "cell_type": "markdown",
   "metadata": {},
   "source": [
    "### Ejercicio 4:\n",
    "* Crea una nueva columna llamada 'Severity' que sea la suma de las columnas 'INES level' y 'Numbers of Direct Deaths'."
   ]
  },
  {
   "cell_type": "code",
   "execution_count": 61,
   "metadata": {},
   "outputs": [
    {
     "data": {
      "text/plain": [
       "0      NaN\n",
       "1      5.0\n",
       "2      7.0\n",
       "3      4.0\n",
       "4      4.0\n",
       "5      3.0\n",
       "6      6.0\n",
       "7      5.0\n",
       "8      NaN\n",
       "9      NaN\n",
       "10     NaN\n",
       "11    35.0\n",
       "12     NaN\n",
       "13     NaN\n",
       "14     NaN\n",
       "15     NaN\n",
       "16     NaN\n",
       "17     3.0\n",
       "18     NaN\n",
       "19     NaN\n",
       "20     NaN\n",
       "21     6.0\n",
       "22     3.0\n",
       "23     3.0\n",
       "24     5.0\n",
       "25     2.0\n",
       "26    11.0\n",
       "27     NaN\n",
       "Name: Severity, dtype: float64"
      ]
     },
     "execution_count": 61,
     "metadata": {},
     "output_type": "execute_result"
    }
   ],
   "source": [
    "df['Severity'] = df['INES level'] + df['Numbers of Direct Deaths']\n",
    "df['Severity']"
   ]
  },
  {
   "cell_type": "markdown",
   "metadata": {},
   "source": [
    "### Ejercicio 5:\n",
    "* Crear un nuevo campo, que se denomine \"Total Deaths\", que guarde la sumatoria de las columnas 'Numbers of Direct Deaths' y 'Numbers of InDirect Deaths'. Informar el total de muertes para el incidente más grave (mayor 'Total Deaths')."
   ]
  },
  {
   "cell_type": "code",
   "execution_count": null,
   "metadata": {},
   "outputs": [],
   "source": []
  },
  {
   "cell_type": "markdown",
   "metadata": {},
   "source": [
    "### Ejercicio 6:\n",
    "* Mostrar la cantidad de incidentes nucleares en cada categoría ('Category')."
   ]
  },
  {
   "cell_type": "code",
   "execution_count": null,
   "metadata": {},
   "outputs": [],
   "source": []
  },
  {
   "cell_type": "markdown",
   "metadata": {},
   "source": [
    "### Ejercicio 7:\n",
    "* Filtrar el DataFrame para mostrar solo los incidentes ocurridos en Estados Unidos ('Pais')."
   ]
  },
  {
   "cell_type": "code",
   "execution_count": null,
   "metadata": {},
   "outputs": [],
   "source": []
  },
  {
   "cell_type": "markdown",
   "metadata": {},
   "source": [
    "### Ejercicio 8:\n",
    "* Calcular la cantidad total de muertes directas por incidente nuclear para cada año."
   ]
  },
  {
   "cell_type": "code",
   "execution_count": null,
   "metadata": {},
   "outputs": [],
   "source": []
  },
  {
   "cell_type": "markdown",
   "metadata": {},
   "source": [
    "### Ejercicio 9:\n",
    "* Mostrar la cantidad de incidentes nucleares en cada país ('Pais') en los que el nivel INES es mayor a 5."
   ]
  },
  {
   "cell_type": "code",
   "execution_count": null,
   "metadata": {},
   "outputs": [],
   "source": []
  },
  {
   "cell_type": "markdown",
   "metadata": {},
   "source": [
    "### Ejercicio 10:\n",
    "* Calcular la cantidad de muertes directas totales de Estados Unidos."
   ]
  },
  {
   "cell_type": "code",
   "execution_count": null,
   "metadata": {},
   "outputs": [],
   "source": []
  }
 ],
 "metadata": {
  "kernelspec": {
   "display_name": "Python 3",
   "language": "python",
   "name": "python3"
  },
  "language_info": {
   "codemirror_mode": {
    "name": "ipython",
    "version": 3
   },
   "file_extension": ".py",
   "mimetype": "text/x-python",
   "name": "python",
   "nbconvert_exporter": "python",
   "pygments_lexer": "ipython3",
   "version": "3.12.0"
  }
 },
 "nbformat": 4,
 "nbformat_minor": 2
}
