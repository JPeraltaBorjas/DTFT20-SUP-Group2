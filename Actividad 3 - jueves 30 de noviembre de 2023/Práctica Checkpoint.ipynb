{
 "cells": [
  {
   "cell_type": "markdown",
   "metadata": {},
   "source": [
    "# **Modelo de Examen**"
   ]
  },
  {
   "cell_type": "code",
   "execution_count": 1,
   "metadata": {},
   "outputs": [],
   "source": [
    "# Importa las librerías necesarias para el proyecto\n"
   ]
  },
  {
   "cell_type": "code",
   "execution_count": null,
   "metadata": {},
   "outputs": [],
   "source": [
    "# Carga el dataset y visualizalo\n"
   ]
  },
  {
   "cell_type": "markdown",
   "metadata": {},
   "source": [
    "#### _1) Informar la cantidad de registros cuya región sea 'América Latina y Caribe' retornando ese valor en un dato de tipo entero._"
   ]
  },
  {
   "cell_type": "code",
   "execution_count": 42,
   "metadata": {},
   "outputs": [],
   "source": [
    "def Ret_Pregunta01():\n",
    "    '''\n",
    "    Debes utilizar Pandas para ingestar en un objeto Dataframe el contenido del archivo provisto\n",
    "    \"Emisiones_CO2.csv\".\n",
    "\n",
    "    Esta función debe informar la cantidad de registros cuya región sea 'América Latina y Caribe' retornando ese valor en un dato de tipo entero.\n",
    "    '''\n",
    "    # Tu código va aquí\n",
    "    \n",
    "    return # resultado"
   ]
  },
  {
   "cell_type": "code",
   "execution_count": null,
   "metadata": {},
   "outputs": [],
   "source": [
    "Ret_Pregunta01()"
   ]
  },
  {
   "cell_type": "markdown",
   "metadata": {},
   "source": [
    "#### _2) Eliminar las columnas 'Código de país' y 'Nombre del país' y luego informar la cantidad de columnas retornanado ese valor en un dato de tipo entero._"
   ]
  },
  {
   "cell_type": "code",
   "execution_count": 36,
   "metadata": {},
   "outputs": [],
   "source": [
    "def Ret_Pregunta02():\n",
    "    '''\n",
    "    Debes utilizar Pandas para ingestar en un objeto Dataframe el contenido del archivo provisto\n",
    "    \"Emisiones_CO2.csv\".\n",
    "\n",
    "    Esta función debe eliminar las columnas 'Código de país' y 'Nombre del país' y luego informar la cantidad de columnas\n",
    "    retornanado ese valor en un dato de tipo entero.\n",
    "    '''\n",
    "\n",
    "    # Tu código va aquí\n",
    "    \n",
    "    return # resultado"
   ]
  },
  {
   "cell_type": "code",
   "execution_count": null,
   "metadata": {},
   "outputs": [],
   "source": [
    "Ret_Pregunta02()"
   ]
  },
  {
   "cell_type": "markdown",
   "metadata": {},
   "source": [
    "#### _3) Informar la cantidad de registros de la columna 'Año' sin tener en cuenta aquellos con valores faltantes retornanado ese valor en un dato de tipo entero._"
   ]
  },
  {
   "cell_type": "code",
   "execution_count": 38,
   "metadata": {},
   "outputs": [],
   "source": [
    "def Ret_Pregunta03():\n",
    "    '''\n",
    "    Debes utilizar Pandas para ingestar en un objeto Dataframe el contenido del archivo provisto\n",
    "    \"Emisiones_CO2.csv\".\n",
    "\n",
    "    Esta función debe informar la cantidad de registros de la columna 'Año' sin tener en cuenta aquellos con valores faltantes\n",
    "    retornanado ese valor en un dato de tipo entero.\n",
    "    '''\n",
    "\n",
    "    # Tu código va aquí\n",
    "    \n",
    "    return # resultado"
   ]
  },
  {
   "cell_type": "code",
   "execution_count": null,
   "metadata": {},
   "outputs": [],
   "source": [
    "Ret_Pregunta03()"
   ]
  },
  {
   "cell_type": "markdown",
   "metadata": {},
   "source": [
    "#### _4) Calcular el país con la mayor cantidad de emisiones per cápita de CO2, excluyendo los países con datos faltantes en la columna CO2 per cápita (toneladas métricas)._"
   ]
  },
  {
   "cell_type": "code",
   "execution_count": 48,
   "metadata": {},
   "outputs": [],
   "source": [
    "def Ret_Pregunta04():\n",
    "    '''\n",
    "    Debes utilizar Pandas para ingestar en un objeto Dataframe el contenido del archivo provisto\n",
    "    \"Emisiones_CO2.csv\".\n",
    "\n",
    "    Esta función debe calcular el país con la mayor cantidad de emisiones per cápita de CO2, excluyendo\n",
    "    los países con datos faltantes en la columna CO2 per cápita (toneladas métricas).\n",
    "    '''\n",
    "\n",
    "    # Tu código va aquí\n",
    "    \n",
    "    return # resultado"
   ]
  },
  {
   "cell_type": "code",
   "execution_count": null,
   "metadata": {},
   "outputs": [],
   "source": [
    "Ret_Pregunta04()"
   ]
  }
 ],
 "metadata": {
  "kernelspec": {
   "display_name": "Python 3",
   "language": "python",
   "name": "python3"
  },
  "language_info": {
   "codemirror_mode": {
    "name": "ipython",
    "version": 3
   },
   "file_extension": ".py",
   "mimetype": "text/x-python",
   "name": "python",
   "nbconvert_exporter": "python",
   "pygments_lexer": "ipython3",
   "version": "3.11.6"
  }
 },
 "nbformat": 4,
 "nbformat_minor": 2
}
