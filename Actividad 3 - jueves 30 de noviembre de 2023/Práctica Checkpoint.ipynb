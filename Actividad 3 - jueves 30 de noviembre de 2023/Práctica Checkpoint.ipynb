{
 "cells": [
  {
   "cell_type": "markdown",
   "metadata": {},
   "source": [
    "# **Modelo de Examen**"
   ]
  },
  {
   "cell_type": "code",
   "execution_count": 68,
   "metadata": {},
   "outputs": [],
   "source": [
    "# Importa las librerías necesarias para el proyecto\n",
    "import pandas as pd"
   ]
  },
  {
   "cell_type": "code",
   "execution_count": 69,
   "metadata": {},
   "outputs": [],
   "source": [
    "# Carga el dataset y visualizalo\n",
    "df = pd.read_csv('Datos/Emisiones_CO2.csv',encoding='latin-1', thousands='.', decimal=',',sep='|')"
   ]
  },
  {
   "cell_type": "code",
   "execution_count": 70,
   "metadata": {},
   "outputs": [],
   "source": [
    "df.rename({'Código de país':'cod_pais','Nombre del país':'nom_pais','CO2 (kt)':'co2_kt','CO2 per cápita (toneladas métricas)':'co2_percapita'}, axis=1, inplace=True)"
   ]
  },
  {
   "cell_type": "code",
   "execution_count": 71,
   "metadata": {},
   "outputs": [
    {
     "data": {
      "text/html": [
       "<div>\n",
       "<style scoped>\n",
       "    .dataframe tbody tr th:only-of-type {\n",
       "        vertical-align: middle;\n",
       "    }\n",
       "\n",
       "    .dataframe tbody tr th {\n",
       "        vertical-align: top;\n",
       "    }\n",
       "\n",
       "    .dataframe thead th {\n",
       "        text-align: right;\n",
       "    }\n",
       "</style>\n",
       "<table border=\"1\" class=\"dataframe\">\n",
       "  <thead>\n",
       "    <tr style=\"text-align: right;\">\n",
       "      <th></th>\n",
       "      <th>cod_pais</th>\n",
       "      <th>nom_pais</th>\n",
       "      <th>Región</th>\n",
       "      <th>Año</th>\n",
       "      <th>co2_kt</th>\n",
       "      <th>co2_percapita</th>\n",
       "    </tr>\n",
       "  </thead>\n",
       "  <tbody>\n",
       "    <tr>\n",
       "      <th>0</th>\n",
       "      <td>ABW</td>\n",
       "      <td>Aruba</td>\n",
       "      <td>América Latina y Caribe</td>\n",
       "      <td>1960</td>\n",
       "      <td>NaN</td>\n",
       "      <td>NaN</td>\n",
       "    </tr>\n",
       "    <tr>\n",
       "      <th>1</th>\n",
       "      <td>ABW</td>\n",
       "      <td>Aruba</td>\n",
       "      <td>América Latina y Caribe</td>\n",
       "      <td>1961</td>\n",
       "      <td>NaN</td>\n",
       "      <td>NaN</td>\n",
       "    </tr>\n",
       "    <tr>\n",
       "      <th>2</th>\n",
       "      <td>ABW</td>\n",
       "      <td>Aruba</td>\n",
       "      <td>América Latina y Caribe</td>\n",
       "      <td>1962</td>\n",
       "      <td>NaN</td>\n",
       "      <td>NaN</td>\n",
       "    </tr>\n",
       "    <tr>\n",
       "      <th>3</th>\n",
       "      <td>ABW</td>\n",
       "      <td>Aruba</td>\n",
       "      <td>América Latina y Caribe</td>\n",
       "      <td>1963</td>\n",
       "      <td>NaN</td>\n",
       "      <td>NaN</td>\n",
       "    </tr>\n",
       "    <tr>\n",
       "      <th>4</th>\n",
       "      <td>ABW</td>\n",
       "      <td>Aruba</td>\n",
       "      <td>América Latina y Caribe</td>\n",
       "      <td>1964</td>\n",
       "      <td>NaN</td>\n",
       "      <td>NaN</td>\n",
       "    </tr>\n",
       "  </tbody>\n",
       "</table>\n",
       "</div>"
      ],
      "text/plain": [
       "  cod_pais nom_pais                   Región   Año  co2_kt  co2_percapita\n",
       "0      ABW    Aruba  América Latina y Caribe  1960     NaN            NaN\n",
       "1      ABW    Aruba  América Latina y Caribe  1961     NaN            NaN\n",
       "2      ABW    Aruba  América Latina y Caribe  1962     NaN            NaN\n",
       "3      ABW    Aruba  América Latina y Caribe  1963     NaN            NaN\n",
       "4      ABW    Aruba  América Latina y Caribe  1964     NaN            NaN"
      ]
     },
     "execution_count": 71,
     "metadata": {},
     "output_type": "execute_result"
    }
   ],
   "source": [
    "df.head()"
   ]
  },
  {
   "cell_type": "markdown",
   "metadata": {},
   "source": [
    "#### _1) Informar la cantidad de registros cuya región sea 'América Latina y Caribe' retornando ese valor en un dato de tipo entero._"
   ]
  },
  {
   "cell_type": "code",
   "execution_count": 72,
   "metadata": {},
   "outputs": [],
   "source": [
    "def Ret_Pregunta01():\n",
    "    '''\n",
    "    Debes utilizar Pandas para ingestar en un objeto Dataframe el contenido del archivo provisto\n",
    "    \"Emisiones_CO2.csv\".\n",
    "\n",
    "    Esta función debe informar la cantidad de registros cuya región sea 'América Latina y Caribe' retornando ese valor en un dato de tipo entero.\n",
    "    '''\n",
    "    # Tu código va aquí\n",
    "\n",
    "    cant_registros = df[df['Región']=='América Latina y Caribe'].shape\n",
    "    \n",
    "    return cant_registros[0]"
   ]
  },
  {
   "cell_type": "code",
   "execution_count": 73,
   "metadata": {},
   "outputs": [
    {
     "data": {
      "text/plain": [
       "2132"
      ]
     },
     "execution_count": 73,
     "metadata": {},
     "output_type": "execute_result"
    }
   ],
   "source": [
    "Ret_Pregunta01()"
   ]
  },
  {
   "cell_type": "markdown",
   "metadata": {},
   "source": [
    "#### _2) Eliminar las columnas 'Código de país' y 'Nombre del país' y luego informar la cantidad de columnas retornanado ese valor en un dato de tipo entero._"
   ]
  },
  {
   "cell_type": "code",
   "execution_count": 74,
   "metadata": {},
   "outputs": [],
   "source": [
    "def Ret_Pregunta02():\n",
    "    '''\n",
    "    Debes utilizar Pandas para ingestar en un objeto Dataframe el contenido del archivo provisto\n",
    "    \"Emisiones_CO2.csv\".\n",
    "\n",
    "    Esta función debe eliminar las columnas 'Código de país' y 'Nombre del país' y luego informar la cantidad de columnas\n",
    "    retornanado ese valor en un dato de tipo entero.\n",
    "    '''\n",
    "\n",
    "    # Tu código va aquí\n",
    "    df2 = df.drop(columns=['cod_pais','nom_pais'])\n",
    "    \n",
    "    return df2.shape[1]"
   ]
  },
  {
   "cell_type": "code",
   "execution_count": 75,
   "metadata": {},
   "outputs": [
    {
     "data": {
      "text/plain": [
       "4"
      ]
     },
     "execution_count": 75,
     "metadata": {},
     "output_type": "execute_result"
    }
   ],
   "source": [
    "Ret_Pregunta02()"
   ]
  },
  {
   "cell_type": "markdown",
   "metadata": {},
   "source": [
    "#### _3) Informar la cantidad de registros de la columna 'Año' sin tener en cuenta aquellos con valores faltantes retornanado ese valor en un dato de tipo entero._"
   ]
  },
  {
   "cell_type": "code",
   "execution_count": 76,
   "metadata": {},
   "outputs": [],
   "source": [
    "def Ret_Pregunta03():\n",
    "    '''\n",
    "    Debes utilizar Pandas para ingestar en un objeto Dataframe el contenido del archivo provisto\n",
    "    \"Emisiones_CO2.csv\".\n",
    "\n",
    "    Esta función debe informar la cantidad de registros de la columna 'Año' sin tener en cuenta aquellos con valores faltantes\n",
    "    retornanado ese valor en un dato de tipo entero.\n",
    "    '''\n",
    "\n",
    "    # Tu código va aquí\n",
    "\n",
    "    df2 = df['Año'].dropna()\n",
    "    \n",
    "    return df2.shape[0]"
   ]
  },
  {
   "cell_type": "code",
   "execution_count": 77,
   "metadata": {},
   "outputs": [
    {
     "data": {
      "text/plain": [
       "11127"
      ]
     },
     "execution_count": 77,
     "metadata": {},
     "output_type": "execute_result"
    }
   ],
   "source": [
    "Ret_Pregunta03()"
   ]
  },
  {
   "cell_type": "markdown",
   "metadata": {},
   "source": [
    "#### _4) Calcular el país con la mayor cantidad de emisiones per cápita de CO2, excluyendo los países con datos faltantes en la columna CO2 per cápita (toneladas métricas)._"
   ]
  },
  {
   "cell_type": "code",
   "execution_count": 78,
   "metadata": {},
   "outputs": [],
   "source": [
    "def Ret_Pregunta04():\n",
    "    '''\n",
    "    Debes utilizar Pandas para ingestar en un objeto Dataframe el contenido del archivo provisto\n",
    "    \"Emisiones_CO2.csv\".\n",
    "\n",
    "    Esta función debe calcular el país con la mayor cantidad de emisiones per cápita de CO2, excluyendo\n",
    "    los países con datos faltantes en la columna CO2 per cápita (toneladas métricas).\n",
    "    '''\n",
    "\n",
    "    # Tu código va aquí\n",
    "\n",
    "    df2 = df.dropna(subset=['co2_percapita'])\n",
    "    # maximo = df2.groupby('nom_pais')['co2_kt'].sum()\n",
    "    maximo = df2['co2_percapita'].max()\n",
    "\n",
    "    #solucion1\n",
    "    # pais_maximo = df2[df2['co2_percapita'] == maximo]['nom_pais']\n",
    "    #solucion1\n",
    "    pais_maximo = df2[df2['co2_percapita'] == maximo].iloc[0,1]\n",
    "    #solucion1\n",
    "    # pais_maximo = df2[df2['co2_percapita'] == maximo]['nom_pais'].iloc[0]\n",
    "    \n",
    "    return pais_maximo"
   ]
  },
  {
   "cell_type": "code",
   "execution_count": 80,
   "metadata": {},
   "outputs": [
    {
     "data": {
      "text/plain": [
       "'Emiratos Árabes Unidos'"
      ]
     },
     "execution_count": 80,
     "metadata": {},
     "output_type": "execute_result"
    }
   ],
   "source": [
    "Ret_Pregunta04()"
   ]
  }
 ],
 "metadata": {
  "kernelspec": {
   "display_name": "Python 3",
   "language": "python",
   "name": "python3"
  },
  "language_info": {
   "codemirror_mode": {
    "name": "ipython",
    "version": 3
   },
   "file_extension": ".py",
   "mimetype": "text/x-python",
   "name": "python",
   "nbconvert_exporter": "python",
   "pygments_lexer": "ipython3",
   "version": "3.12.0"
  }
 },
 "nbformat": 4,
 "nbformat_minor": 2
}
