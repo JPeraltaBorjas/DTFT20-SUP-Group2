{
 "cells": [
  {
   "cell_type": "markdown",
   "metadata": {},
   "source": [
    "# **Modelo de Examen**"
   ]
  },
  {
   "cell_type": "code",
   "execution_count": 1,
   "metadata": {},
   "outputs": [],
   "source": [
    "import pandas as pd"
   ]
  },
  {
   "cell_type": "code",
   "execution_count": 30,
   "metadata": {},
   "outputs": [
    {
     "data": {
      "text/html": [
       "<div>\n",
       "<style scoped>\n",
       "    .dataframe tbody tr th:only-of-type {\n",
       "        vertical-align: middle;\n",
       "    }\n",
       "\n",
       "    .dataframe tbody tr th {\n",
       "        vertical-align: top;\n",
       "    }\n",
       "\n",
       "    .dataframe thead th {\n",
       "        text-align: right;\n",
       "    }\n",
       "</style>\n",
       "<table border=\"1\" class=\"dataframe\">\n",
       "  <thead>\n",
       "    <tr style=\"text-align: right;\">\n",
       "      <th></th>\n",
       "      <th>Código de país</th>\n",
       "      <th>Nombre del país</th>\n",
       "      <th>Región</th>\n",
       "      <th>Año</th>\n",
       "      <th>CO2 (kt)</th>\n",
       "      <th>CO2 per cápita (toneladas métricas)</th>\n",
       "    </tr>\n",
       "  </thead>\n",
       "  <tbody>\n",
       "    <tr>\n",
       "      <th>0</th>\n",
       "      <td>ABW</td>\n",
       "      <td>Aruba</td>\n",
       "      <td>América Latina y Caribe</td>\n",
       "      <td>1960</td>\n",
       "      <td>NaN</td>\n",
       "      <td>NaN</td>\n",
       "    </tr>\n",
       "    <tr>\n",
       "      <th>1</th>\n",
       "      <td>ABW</td>\n",
       "      <td>Aruba</td>\n",
       "      <td>América Latina y Caribe</td>\n",
       "      <td>1961</td>\n",
       "      <td>NaN</td>\n",
       "      <td>NaN</td>\n",
       "    </tr>\n",
       "  </tbody>\n",
       "</table>\n",
       "</div>"
      ],
      "text/plain": [
       "  Código de país Nombre del país                   Región   Año CO2 (kt)  \\\n",
       "0            ABW           Aruba  América Latina y Caribe  1960      NaN   \n",
       "1            ABW           Aruba  América Latina y Caribe  1961      NaN   \n",
       "\n",
       "  CO2 per cápita (toneladas métricas)  \n",
       "0                                 NaN  \n",
       "1                                 NaN  "
      ]
     },
     "execution_count": 30,
     "metadata": {},
     "output_type": "execute_result"
    }
   ],
   "source": [
    "emisiones = pd.read_csv('Datos/Emisiones_CO2.csv', sep='|', encoding='latin-1')\n",
    "emisiones.head(2)"
   ]
  },
  {
   "cell_type": "code",
   "execution_count": 31,
   "metadata": {},
   "outputs": [
    {
     "name": "stdout",
     "output_type": "stream",
     "text": [
      "<class 'pandas.core.frame.DataFrame'>\n",
      "RangeIndex: 11127 entries, 0 to 11126\n",
      "Data columns (total 6 columns):\n",
      " #   Column                               Non-Null Count  Dtype \n",
      "---  ------                               --------------  ----- \n",
      " 0   Código de país                       11127 non-null  object\n",
      " 1   Nombre del país                      11127 non-null  object\n",
      " 2   Región                               11127 non-null  object\n",
      " 3   Año                                  11127 non-null  int64 \n",
      " 4   CO2 (kt)                             9032 non-null   object\n",
      " 5   CO2 per cápita (toneladas métricas)  9029 non-null   object\n",
      "dtypes: int64(1), object(5)\n",
      "memory usage: 521.7+ KB\n"
     ]
    }
   ],
   "source": [
    "emisiones.info()"
   ]
  },
  {
   "cell_type": "markdown",
   "metadata": {},
   "source": [
    "#### _1) Informar la cantidad de registros cuya región sea 'América Latina y Caribe' retornando ese valor en un dato de tipo entero._"
   ]
  },
  {
   "cell_type": "code",
   "execution_count": 42,
   "metadata": {},
   "outputs": [],
   "source": [
    "def Ret_Pregunta01():\n",
    "    '''\n",
    "    Debes utilizar Pandas para ingestar en un objeto Dataframe el contenido del archivo provisto\n",
    "    \"Emisiones_CO2.csv\".\n",
    "\n",
    "    Esta función debe informar la cantidad de registros cuya región sea 'América Latina y Caribe' retornando ese valor en un dato de tipo entero.\n",
    "    '''\n",
    "\n",
    "    df = pd.read_csv('Datos/Emisiones_CO2.csv', sep='|', encoding='latin-1')\n",
    "    return df[df['Región'] == 'América Latina y Caribe'].shape[0]"
   ]
  },
  {
   "cell_type": "code",
   "execution_count": 43,
   "metadata": {},
   "outputs": [
    {
     "data": {
      "text/plain": [
       "2132"
      ]
     },
     "execution_count": 43,
     "metadata": {},
     "output_type": "execute_result"
    }
   ],
   "source": [
    "Ret_Pregunta01()"
   ]
  },
  {
   "cell_type": "markdown",
   "metadata": {},
   "source": [
    "#### _2) Eliminar las columnas 'Código de país' y 'Nombre del país' y luego informar la cantidad de columnas retornanado ese valor en un dato de tipo entero._"
   ]
  },
  {
   "cell_type": "code",
   "execution_count": 36,
   "metadata": {},
   "outputs": [],
   "source": [
    "def Ret_Pregunta02():\n",
    "    '''\n",
    "    Debes utilizar Pandas para ingestar en un objeto Dataframe el contenido del archivo provisto\n",
    "    \"Emisiones_CO2.csv\".\n",
    "\n",
    "    Esta función debe eliminar las columnas 'Código de país' y 'Nombre del país' y luego informar la cantidad de columnas\n",
    "    retornanado ese valor en un dato de tipo entero.\n",
    "    '''\n",
    "\n",
    "    df = pd.read_csv('Datos/Emisiones_CO2.csv', sep='|', encoding='latin-1')\n",
    "    df = df.drop(['Código de país', 'Nombre del país'], axis=1)\n",
    "    return df.shape[1]"
   ]
  },
  {
   "cell_type": "code",
   "execution_count": 37,
   "metadata": {},
   "outputs": [
    {
     "data": {
      "text/plain": [
       "4"
      ]
     },
     "execution_count": 37,
     "metadata": {},
     "output_type": "execute_result"
    }
   ],
   "source": [
    "Ret_Pregunta02()"
   ]
  },
  {
   "cell_type": "markdown",
   "metadata": {},
   "source": [
    "#### _3) Informar la cantidad de registros de la columna 'Año' sin tener en cuenta aquellos con valores faltantes retornanado ese valor en un dato de tipo entero._"
   ]
  },
  {
   "cell_type": "code",
   "execution_count": 38,
   "metadata": {},
   "outputs": [],
   "source": [
    "def Ret_Pregunta03():\n",
    "    '''\n",
    "    Debes utilizar Pandas para ingestar en un objeto Dataframe el contenido del archivo provisto\n",
    "    \"Emisiones_CO2.csv\".\n",
    "\n",
    "    Esta función debe informar la cantidad de registros de la columna 'Año' sin tener en cuenta aquellos con valores faltantes\n",
    "    retornanado ese valor en un dato de tipo entero.\n",
    "    '''\n",
    "\n",
    "    df = pd.read_csv('Datos/Emisiones_CO2.csv', sep='|', encoding='latin-1')\n",
    "    return df['Año'].dropna().shape[0]"
   ]
  },
  {
   "cell_type": "code",
   "execution_count": 39,
   "metadata": {},
   "outputs": [
    {
     "data": {
      "text/plain": [
       "11127"
      ]
     },
     "execution_count": 39,
     "metadata": {},
     "output_type": "execute_result"
    }
   ],
   "source": [
    "Ret_Pregunta03()"
   ]
  },
  {
   "cell_type": "markdown",
   "metadata": {},
   "source": [
    "#### _4) calcular el país con la mayor cantidad de emisiones per cápita de CO2, excluyendo los países con datos faltantes en la columna CO2 per cápita (toneladas métricas)._"
   ]
  },
  {
   "cell_type": "code",
   "execution_count": 48,
   "metadata": {},
   "outputs": [],
   "source": [
    "def Ret_Pregunta04():\n",
    "    '''\n",
    "    Debes utilizar Pandas para ingestar en un objeto Dataframe el contenido del archivo provisto\n",
    "    \"Emisiones_CO2.csv\".\n",
    "\n",
    "    Esta función debe calcular el país con la mayor cantidad de emisiones per cápita de CO2, excluyendo\n",
    "    los países con datos faltantes en la columna CO2 per cápita (toneladas métricas).\n",
    "    '''\n",
    "\n",
    "    df = pd.read_csv('Datos/Emisiones_CO2.csv', sep='|', encoding='latin-1')\n",
    "    df = df.dropna(subset=['CO2 per cápita (toneladas métricas)'])\n",
    "    emisiones_per_capita_max = df['CO2 per cápita (toneladas métricas)'].max()\n",
    "    pais_emisiones_max = df[df['CO2 per cápita (toneladas métricas)'] == emisiones_per_capita_max]['Nombre del país'].iloc[0]\n",
    "\n",
    "    return pais_emisiones_max"
   ]
  },
  {
   "cell_type": "code",
   "execution_count": 49,
   "metadata": {},
   "outputs": [
    {
     "data": {
      "text/plain": [
       "'Emiratos Árabes Unidos'"
      ]
     },
     "execution_count": 49,
     "metadata": {},
     "output_type": "execute_result"
    }
   ],
   "source": [
    "Ret_Pregunta04()"
   ]
  }
 ],
 "metadata": {
  "kernelspec": {
   "display_name": "Python 3",
   "language": "python",
   "name": "python3"
  },
  "language_info": {
   "codemirror_mode": {
    "name": "ipython",
    "version": 3
   },
   "file_extension": ".py",
   "mimetype": "text/x-python",
   "name": "python",
   "nbconvert_exporter": "python",
   "pygments_lexer": "ipython3",
   "version": "3.11.6"
  }
 },
 "nbformat": 4,
 "nbformat_minor": 2
}
